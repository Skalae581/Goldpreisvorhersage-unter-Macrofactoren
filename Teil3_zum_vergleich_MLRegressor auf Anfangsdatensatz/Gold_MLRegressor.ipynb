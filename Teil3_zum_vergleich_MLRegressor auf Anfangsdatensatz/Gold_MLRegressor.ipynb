{
 "cells": [
  {
   "cell_type": "markdown",
   "id": "27819954-5820-4c90-9083-3aac560c5e6d",
   "metadata": {},
   "source": [
    "# Modellierung: Goldpreisänderung vorhersagen"
   ]
  },
  {
   "cell_type": "markdown",
   "id": "69d0edde-4850-4a54-9c0b-06b325765859",
   "metadata": {},
   "source": [
    "## 1. Datenvorbereitung"
   ]
  },
  {
   "cell_type": "code",
   "execution_count": 15,
   "id": "c74eafc5-cc9c-4a0b-9fc9-d38d2a52cdeb",
   "metadata": {},
   "outputs": [],
   "source": [
    "import numpy as np\n",
    "import pandas as pd\n",
    "from sklearn.model_selection import train_test_split"
   ]
  },
  {
   "cell_type": "code",
   "execution_count": 16,
   "id": "42e46bfe-f9ca-446e-b256-01b55a3f39d9",
   "metadata": {
    "scrolled": true
   },
   "outputs": [],
   "source": [
    "import pandas as pd\n",
    "import os\n",
    "\n",
    "def load_and_prepare_safe(file_path, date_format=None):\n",
    "    \"\"\"\n",
    "    Lädt eine CSV-Datei, benennt die erste Spalte in 'Date' um, konvertiert sie in Datumsformat,\n",
    "    entfernt fehlerhafte Zeilen und gibt ein vorbereitetes DataFrame zurück.\n",
    "\n",
    "    Parameter:\n",
    "    file_path : str – Pfad zur CSV-Datei\n",
    "    date_format : str – optionales Datumsformat (z. B. '%Y-%m-%d')\n",
    "\n",
    "    Rückgabe:\n",
    "    DataFrame oder None bei Fehler\n",
    "    \"\"\"\n",
    "    if not os.path.exists(file_path):\n",
    "        print(f\"❌ Datei nicht gefunden: {file_path}\")\n",
    "        return None\n",
    "\n",
    "    try:\n",
    "        df = pd.read_csv(file_path)\n",
    "        first_col = df.columns[0]\n",
    "        df.rename(columns={first_col: 'Date'}, inplace=True)\n",
    "        df['Date'] = pd.to_datetime(df['Date'], format=date_format, errors='coerce').dt.date\n",
    "        df.dropna(subset=['Date'], inplace=True)\n",
    "        print(f\"✔️ {len(df)} Zeilen erfolgreich geladen und vorbereitet.\")\n",
    "        return df\n",
    "    except Exception as e:\n",
    "        print(f\"❗ Fehler beim Laden/Verarbeiten der Datei: {e}\")\n",
    "        return None\n"
   ]
  },
  {
   "cell_type": "code",
   "execution_count": 17,
   "id": "889dfc44-40cb-44b0-a4fc-6a7ab2b841cf",
   "metadata": {},
   "outputs": [
    {
     "name": "stdout",
     "output_type": "stream",
     "text": [
      "❌ Datei nicht gefunden: gold_bereit - Kopie.csv\n"
     ]
    }
   ],
   "source": [
    "df_gold = load_and_prepare_safe(\"gold_bereit - Kopie.csv\")"
   ]
  },
  {
   "cell_type": "code",
   "execution_count": null,
   "id": "281a9d36-f6de-42c9-ad54-fac9ec2b0468",
   "metadata": {},
   "outputs": [],
   "source": [
    "merged_df_updated.columns"
   ]
  },
  {
   "cell_type": "code",
   "execution_count": 3,
   "id": "c8131d65-9b59-4a61-9133-47874e86930b",
   "metadata": {},
   "outputs": [],
   "source": [
    "class Normalizer:\n",
    "    def __init__(self):\n",
    "        self.mu = None\n",
    "        self.sd = None\n",
    "\n",
    "    def fit_transform(self, x):\n",
    "        \"\"\"\n",
    "        Führt Normalisierung (Standardisierung) der Eingabedaten durch:\n",
    "        (x - Mittelwert) / Standardabweichung\n",
    "        \"\"\"\n",
    "        self.mu = np.mean(x, axis=0, keepdims=True)\n",
    "        self.sd = np.std(x, axis=0, keepdims=True)\n",
    "        normalized_x = (x - self.mu) / self.sd\n",
    "        return normalized_x\n",
    "\n",
    "    def transform(self, x):\n",
    "        \"\"\"\n",
    "        Wendet die zuvor berechneten Normalisierungsparameter an.\n",
    "        \"\"\"\n",
    "        return (x - self.mu) / self.sd\n",
    "\n",
    "    def inverse_transform(self, x):\n",
    "        \"\"\"\n",
    "        Wandelt normalisierte Daten zurück in die Originalskala:\n",
    "        (x * Standardabweichung) + Mittelwert\n",
    "        \"\"\"\n",
    "        return (x * self.sd) + self.mu"
   ]
  },
  {
   "cell_type": "code",
   "execution_count": 4,
   "id": "b1a6ca32-2109-4f8a-ad22-0d96500967f6",
   "metadata": {},
   "outputs": [
    {
     "ename": "NameError",
     "evalue": "name 'X' is not defined",
     "output_type": "error",
     "traceback": [
      "\u001b[1;31m---------------------------------------------------------------------------\u001b[0m",
      "\u001b[1;31mNameError\u001b[0m                                 Traceback (most recent call last)",
      "Cell \u001b[1;32mIn[4], line 3\u001b[0m\n\u001b[0;32m      1\u001b[0m \u001b[38;5;66;03m# Angenommen X enthält die Features, y die Zielwerte (z. B. gold_tagesrendite)\u001b[39;00m\n\u001b[0;32m      2\u001b[0m X_train, X_test, y_train, y_test \u001b[38;5;241m=\u001b[39m train_test_split(\n\u001b[1;32m----> 3\u001b[0m     X, y, \n\u001b[0;32m      4\u001b[0m     test_size\u001b[38;5;241m=\u001b[39m\u001b[38;5;241m0.2\u001b[39m,         \u001b[38;5;66;03m# 20 % Testdaten\u001b[39;00m\n\u001b[0;32m      5\u001b[0m     random_state\u001b[38;5;241m=\u001b[39m\u001b[38;5;241m42\u001b[39m,       \u001b[38;5;66;03m# für Reproduzierbarkeit\u001b[39;00m\n\u001b[0;32m      6\u001b[0m     shuffle\u001b[38;5;241m=\u001b[39m\u001b[38;5;28;01mTrue\u001b[39;00m           \u001b[38;5;66;03m# wichtig für Zeitreihen nur wenn kein Zeitbezug!\u001b[39;00m\n\u001b[0;32m      7\u001b[0m )\n",
      "\u001b[1;31mNameError\u001b[0m: name 'X' is not defined"
     ]
    }
   ],
   "source": [
    "# Angenommen X enthält die Features, y die Zielwerte (z. B. gold_tagesrendite)\n",
    "X_train, X_test, y_train, y_test = train_test_split(\n",
    "    X, y, \n",
    "    test_size=0.2,         # 20 % Testdaten\n",
    "    random_state=42,       # für Reproduzierbarkeit\n",
    "    shuffle=True           # wichtig für Zeitreihen nur wenn kein Zeitbezug!\n",
    ")\n"
   ]
  },
  {
   "cell_type": "markdown",
   "id": "978ca351-1d07-48ff-9bb1-b43793439869",
   "metadata": {},
   "source": [
    "## 2.Funktion zum CSV-Export und lokalen Download"
   ]
  }
 ],
 "metadata": {
  "kernelspec": {
   "display_name": "Python 3 (ipykernel)",
   "language": "python",
   "name": "python3"
  },
  "language_info": {
   "codemirror_mode": {
    "name": "ipython",
    "version": 3
   },
   "file_extension": ".py",
   "mimetype": "text/x-python",
   "name": "python",
   "nbconvert_exporter": "python",
   "pygments_lexer": "ipython3",
   "version": "3.12.7"
  }
 },
 "nbformat": 4,
 "nbformat_minor": 5
}
